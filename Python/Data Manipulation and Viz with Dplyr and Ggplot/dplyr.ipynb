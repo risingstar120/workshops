{
  "cells": [
    {
      "metadata": {},
      "cell_type": "markdown",
      "source": "# Data Transformation with dplyr in R\nBy: Fauzi Bajuri for DataScience SG Youth Wing"
    },
    {
      "metadata": {
        "collapsed": true
      },
      "cell_type": "markdown",
      "source": "## Why use dplyr?\n\n- Intuitive to write and easy to read, especially when using \"chaining\" syntax"
    },
    {
      "metadata": {},
      "cell_type": "markdown",
      "source": "### Useful shortcuts and tips for using Jupyter Notebook\nhttps://medium.com/ibm-data-science-experience/markdown-for-jupyter-notebooks-cheatsheet-386c05aeebed\n\n### Resources:\n\n- R for Data Science http://r4ds.had.co.nz/transform.html\n- Hands-on video tutorial https://www.youtube.com/watch?v=jWjqLW-u3hc and http://rpubs.com/justmarkham/dplyr-tutorial"
    },
    {
      "metadata": {},
      "cell_type": "markdown",
      "source": "## About dplyr\n\n- Five basic verbs : filter, select, arrange, mutate, summarise (plus 'group_by')\n- Joins (not convered)\n- dplyr will mask a  few base functions\n- previous package is plyr\n- dplyr approach is simpler to write and read\n\n- **Command structure (for all dplyr verbs)**:\n    - first argument is a data frame\n    - return value is a data frame\n    - nothing is modified in place"
    },
    {
      "metadata": {},
      "cell_type": "markdown",
      "source": "## Comparison with Microsoft Excel\n- This training will make comparisons with functions & features in Microsoft Excel to help partcipants understand how the verbs work!\n- Particpants recommended to open file.csv in Microsoft Excel during the session!"
    },
    {
      "metadata": {
        "trusted": true
      },
      "cell_type": "code",
      "source": "#install & load packages\n#install.packages(\"dplyr\")\nlibrary(dplyr)",
      "execution_count": null,
      "outputs": []
    },
    {
      "metadata": {
        "trusted": true
      },
      "cell_type": "code",
      "source": "flights <- read.csv(\"file.csv\")\nflights <- tbl_df(flights)",
      "execution_count": null,
      "outputs": []
    },
    {
      "metadata": {
        "scrolled": true,
        "trusted": true
      },
      "cell_type": "code",
      "source": "str(flights)",
      "execution_count": null,
      "outputs": []
    },
    {
      "metadata": {},
      "cell_type": "markdown",
      "source": "## About Dataset: New York City Flights 13\n\nThis data contains information on all arriving and departing flights from NYC in 2013. The variables in this dataset are:\n\n- **year, month, day** - Date of departure\n- **dep_time,arr_time** - Actual departure and arrival times.\n- **sched_dep_time, sched_arr_time** - Scheduled departure and arrival times.\n- **dep_delay, arr_delay** - delays in minutes\n- **hour, minute** - Time of scheduled departure\n- **carrier** - carrier abbreviation (See: https://www.census.gov/foreign-trade/reference/codes/aircarrier/acname.txt)\n- **tailnum** - Tail number of plane.\n- **flight** - flight number.\n- **origin, dest** - Origin and Destination\n- **air_time** - Time spent in air.\n- **distance** - Distance flown.\n- **time_hour** - scheduled date and hour of flight.\n\nSource: http://statseducation.com/Introduction-to-R/modules/graphics/ggplot2/"
    },
    {
      "metadata": {},
      "cell_type": "markdown",
      "source": "## Verb 1 - filter() using Relational Operators (>, >=, <, <=, !=, ==, &, |)\nFilter similar to Microsoft Excel"
    },
    {
      "metadata": {
        "trusted": true
      },
      "cell_type": "code",
      "source": "#R base example\n\n#head(flights[flights$month == 11 | flights$month== 12,]) # not modified in place\n\n##dplyr method easier\n\n#OR (|) Operator\n\n#filter to view data in Nov and Dec\n\nfilter(flights, month == 11 | month == 12) #not modified in place\n\n#head(filter(flights, month == 11 | 12)) #wrong!",
      "execution_count": null,
      "outputs": []
    },
    {
      "metadata": {
        "trusted": true
      },
      "cell_type": "code",
      "source": "#filter for string/non-numeric data type\n#filter for both months nov and dec for carriers AA and UA\nfilter(flights, month == 11 | month == 12, carrier == \"AA\" | carrier == \"UA\") %>% summarize(n = n())\n\n#use nrow() or str() to check no. of observations/rows after filter is done\n#can use piping with summarize to compute no. of rows( %>% summarize(n = n()))\n",
      "execution_count": null,
      "outputs": []
    },
    {
      "metadata": {
        "trusted": true
      },
      "cell_type": "code",
      "source": "#AND conditions (&)\n#filter to view data on 1st of November\n\nfilter(flights, month == 11 & day == 1) %>% summarize(n = n())\n\n",
      "execution_count": null,
      "outputs": []
    },
    {
      "metadata": {},
      "cell_type": "markdown",
      "source": "## Exercise 1 - Filter"
    },
    {
      "metadata": {
        "trusted": true
      },
      "cell_type": "code",
      "source": "#1) Filter dataframe for flights on 1st March which departed earlier than scheduled from John F. Kennedy International Airport (176)\n\nfilter(flights, month == 3, day == 1, dep_delay < 0, origin == \"JFK\") %>% summarize(no._obs= n())\n\n#2) Filter dataframe for flights on September by both United Airlines and American Airlines which was scheduled to arrive at Los Angeles International Airport between  12 noon and 6PM(288)\n\nfilter(flights, month == 9, carrier == \"UA\" | carrier == \"AA\", dest == \"LAX\", sched_arr_time >= 1200, sched_arr_time <= 1800) %>% summarize(no._obs= n())",
      "execution_count": 1,
      "outputs": [
        {
          "output_type": "error",
          "ename": "ERROR",
          "evalue": "Error in filter(flights, month == 3, day == 1, dep_delay < 0, origin == : could not find function \"%>%\"\n",
          "traceback": [
            "Error in filter(flights, month == 3, day == 1, dep_delay < 0, origin == : could not find function \"%>%\"\nTraceback:\n"
          ]
        }
      ]
    },
    {
      "metadata": {},
      "cell_type": "markdown",
      "source": "## Verb 2 - arrange()\nArrange is similar to sorting a table in Microsoft Excel"
    },
    {
      "metadata": {
        "trusted": true
      },
      "cell_type": "code",
      "source": "head(arrange(flights, dep_delay)) #by default, sort by assending order (smallest to largest value)",
      "execution_count": null,
      "outputs": []
    },
    {
      "metadata": {
        "scrolled": true,
        "trusted": true
      },
      "cell_type": "code",
      "source": "head(arrange(flights, desc(dep_delay))) #set desc as nested functiont to sort by descending order (largest to smallest value)",
      "execution_count": null,
      "outputs": []
    },
    {
      "metadata": {},
      "cell_type": "markdown",
      "source": "## Exercise 2 - Arrange"
    },
    {
      "metadata": {
        "scrolled": true,
        "trusted": true
      },
      "cell_type": "code",
      "source": "#Arrange by arr time and then month (latest months first)\n\nhead(arrange(flights, arr_time, desc(month)))",
      "execution_count": null,
      "outputs": []
    },
    {
      "metadata": {
        "scrolled": true,
        "trusted": true
      },
      "cell_type": "code",
      "source": "#sort by descending order for month and day, and ascending order for dep_delay)\n\nhead(arrange(flights, desc(month), desc(day), dep_delay))",
      "execution_count": null,
      "outputs": []
    },
    {
      "metadata": {},
      "cell_type": "markdown",
      "source": "## Verb 3 - select()\nSelect is similar to SELECT in SQL and deleting columns in Microsoft Excel. select() allows you to rapidly zoom in on a useful subset using operations based on the names of the variables."
    },
    {
      "metadata": {
        "trusted": true
      },
      "cell_type": "code",
      "source": "select(flights, year, month, day) %>% head(.,2)",
      "execution_count": null,
      "outputs": []
    },
    {
      "metadata": {
        "trusted": true
      },
      "cell_type": "code",
      "source": "select(flights, year:day) %>% head(.,2) # use : to select columns from:to",
      "execution_count": null,
      "outputs": []
    },
    {
      "metadata": {
        "scrolled": true,
        "trusted": true
      },
      "cell_type": "code",
      "source": "select(flights, -(year:day)) %>% head(.,2) #use - to select all except the column names provided in argument",
      "execution_count": null,
      "outputs": []
    },
    {
      "metadata": {},
      "cell_type": "markdown",
      "source": "#### Good to know!\n\nThere are a number of helper functions you can use within select():\n\n- **starts_with(\"abc\")**: matches names that begin with “abc”.\n\n- **ends_with(\"xyz\")**: matches names that end with “xyz”.\n\n- **contains(\"ijk\")**: matches names that contain “ijk”.\n\n- **matches(\"(.)\\\\1\")**: selects variables that match a regular expression. This one matches any variables that contain repeated characters.\n\n- **num_range(\"x\", 1:3)**: matches x1, x2 and x3."
    },
    {
      "metadata": {
        "scrolled": true,
        "trusted": true
      },
      "cell_type": "code",
      "source": "select(flights, starts_with(\"dep\")) %>% head(.,2)",
      "execution_count": null,
      "outputs": []
    },
    {
      "metadata": {
        "trusted": true
      },
      "cell_type": "code",
      "source": "select(flights, ends_with(\"time\")) %>% head(.,2)",
      "execution_count": null,
      "outputs": []
    },
    {
      "metadata": {},
      "cell_type": "markdown",
      "source": "## Verb 4 - mutate()\nAdd new columns that are functions of existing columns. Functions include +, -, *, /, ^, %/% (integer division) and %% (remainder)"
    },
    {
      "metadata": {
        "trusted": true
      },
      "cell_type": "code",
      "source": "mutate(flights,\n  gain = dep_delay - arr_delay,\n  speed = distance / air_time * 60) #%>% head(.,2)\n#distance  = speed * time!",
      "execution_count": null,
      "outputs": []
    },
    {
      "metadata": {
        "trusted": true
      },
      "cell_type": "code",
      "source": "#If you only want to keep the new variables, use transmute():\n\ntransmute(flights,\n  gain = dep_delay - arr_delay,\n  hours = air_time / 60,\n  gain_per_hour = gain / hours\n) %>% head(.,2)",
      "execution_count": null,
      "outputs": []
    },
    {
      "metadata": {},
      "cell_type": "markdown",
      "source": "## Verb 5 -  summarise() with group_by\nThe last key verb is summarise(). It collapses a data frame to a single row"
    },
    {
      "metadata": {
        "trusted": true
      },
      "cell_type": "code",
      "source": "summarise(flights, delay = mean(dep_delay, na.rm = TRUE)) #computes mean for dep_delay for entire dataframe (remove NA)",
      "execution_count": null,
      "outputs": []
    },
    {
      "metadata": {},
      "cell_type": "markdown",
      "source": "Together group_by() and summarise() provide one of the tools that you’ll use most commonly when working with dplyr: grouped summaries. But before we go any further with this, we need to introduce a powerful new idea: the pipe (%>%).\n\nA good way to pronounce %>% when reading code is “then”."
    },
    {
      "metadata": {
        "trusted": true
      },
      "cell_type": "code",
      "source": "flights %>%\n    group_by(carrier) %>% # set how you want to group the dataframe by\n    summarize (count = n())#n() is used to count no. of rows/observations",
      "execution_count": null,
      "outputs": []
    },
    {
      "metadata": {},
      "cell_type": "markdown",
      "source": "How to read the above:\n\n\"Transform the *flights* dataframe by (1) grouping them by carrier and *then* summarizing by count (no. of carriers)\" \n\n**Note how this is similar to =COUNTIF in Microsoft Excel and also using Pivot Table**\n\nWe can add on more transformations by using %>% "
    },
    {
      "metadata": {
        "scrolled": true,
        "trusted": true
      },
      "cell_type": "code",
      "source": "flights %>%\n    group_by(carrier) %>% # set how you want to group the dataframe by\n    summarize (count = n(), #n() is used to count no. of rows/observations \n               mean_dist = mean(distance, na.rm = TRUE), #compute mean distance per carrier\n               median_arr_delay = median(arr_delay, na.rm = TRUE)\n              ) %>%\n    filter(count >= 1000) %>% #filter to show only carriers with flights >= 1000 \n    arrange(median_arr_delay) #arrange/sort in ascending order based on median_arr_delay",
      "execution_count": null,
      "outputs": []
    },
    {
      "metadata": {},
      "cell_type": "markdown",
      "source": "How to read the above:\n\n\"Transform the flights dataframe by...\n- **(1)** **grouping them** by carrier and **then**\n- **(2)** **summarizing** by count (no. of carriers), mean distance, median arrival delay and **then**\n- **(3)** **filter** only for carriers with >= 1000 flights and **then** \n- **(4)** **arrange** the dataset in ascending order based on median arrival delay time"
    },
    {
      "metadata": {},
      "cell_type": "markdown",
      "source": "## Exercise 3 - Wrap up dplyr\n\nCreate a dataframe to show the (1) mean distance in km (1 mile = 1.60934 km) and (2) no. of flights for each pair of Origin & Destination (OD) (3) except for HNL (i.e. I do not want HNL data as either origin or destination in my dataframe).\n\nFollowing which, I want to view them to be sorted in (4) alphabetical order based on origin first then by no. of flights (in descending order).\n\n"
    },
    {
      "metadata": {
        "scrolled": true,
        "trusted": true
      },
      "cell_type": "code",
      "source": "#1 mile = 1.60934 km\n\nflights %>%\n    group_by(origin, dest) %>%\n    summarize(count = n(),\n              mean_dist_km = round(mean(distance, na.rm = TRUE)*1.60934)\n             ) %>%\n    arrange(origin, desc(count)) %>%\n    filter(dest != \"HNL\", origin !=\"HNL\")",
      "execution_count": null,
      "outputs": []
    }
  ],
  "metadata": {
    "kernelspec": {
      "name": "r",
      "display_name": "R",
      "language": "R"
    },
    "language_info": {
      "mimetype": "text/x-r-source",
      "name": "R",
      "pygments_lexer": "r",
      "version": "3.4.1",
      "file_extension": ".r",
      "codemirror_mode": "r"
    }
  },
  "nbformat": 4,
  "nbformat_minor": 2
}